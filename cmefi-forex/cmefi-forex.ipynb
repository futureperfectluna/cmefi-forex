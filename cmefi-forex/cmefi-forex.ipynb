{
 "cells": [
  {
   "cell_type": "markdown",
   "id": "1eb26592",
   "metadata": {},
   "source": [
    "# Exchange Rates\n",
    "This script pulls forex data from the European Central Bank via the exchangerate.host platform. Data goes as far back as 1 Jan. 2010. \n",
    "\n",
    "If you have questions please email charles@cmefi.com or jasmine@cmefi.com"
   ]
  },
  {
   "cell_type": "markdown",
   "id": "24892c26",
   "metadata": {},
   "source": [
    "# I. Preparation: Install Libraries, Set Variables"
   ]
  },
  {
   "cell_type": "code",
   "execution_count": 1,
   "id": "4ea6a47e",
   "metadata": {},
   "outputs": [],
   "source": [
    "# Install/import relevant libraries\n",
    "import requests \n",
    "import datetime\n",
    "import json\n",
    "import os\n",
    "import smtplib\n",
    "import pandas as pd\n",
    "from google.cloud import bigquery\n",
    "from google.oauth2 import service_account\n",
    "from google.cloud.exceptions import NotFound"
   ]
  },
  {
   "cell_type": "code",
   "execution_count": 3,
   "id": "5e9ccfa1",
   "metadata": {},
   "outputs": [],
   "source": [
    "# Set variables of interest. Namely, start and end dates, base currency, currencies of interest,\n",
    "# and forex rate data source. \n",
    "\n",
    "# Start and end dates for forex time series \n",
    "start = str(datetime.date(2010, 1, 1).strftime('%Y-%m-%d'))\n",
    "end = str(datetime.date.today())\n",
    "\n",
    "# Base currency \n",
    "base = 'USD'\n",
    "\n",
    "# Currencies of interest \n",
    "currencies = ['CAD', 'EUR', 'INR', 'MXN', 'CNY', 'TWD']\n",
    "\n",
    "# Forex rate data source \n",
    "fx_source = 'ecb' # This is the European Central Bank \n",
    "\n",
    "# Delimiter \n",
    "s = ','"
   ]
  },
  {
   "cell_type": "code",
   "execution_count": 1,
   "id": "48993be9",
   "metadata": {},
   "outputs": [
    {
     "ename": "NameError",
     "evalue": "name 'start' is not defined",
     "output_type": "error",
     "traceback": [
      "\u001b[1;31m---------------------------------------------------------------------------\u001b[0m",
      "\u001b[1;31mNameError\u001b[0m                                 Traceback (most recent call last)",
      "\u001b[1;32m~\\AppData\\Local\\Temp\\2/ipykernel_2616/1645295458.py\u001b[0m in \u001b[0;36m<module>\u001b[1;34m\u001b[0m\n\u001b[0;32m      1\u001b[0m \u001b[1;31m# Get request\u001b[0m\u001b[1;33m\u001b[0m\u001b[1;33m\u001b[0m\u001b[1;33m\u001b[0m\u001b[0m\n\u001b[0;32m      2\u001b[0m \u001b[0murl\u001b[0m \u001b[1;33m=\u001b[0m \u001b[1;34m'https://api.exchangerate.host/timeseries?'\u001b[0m \u001b[1;33m+\u001b[0m\u001b[0;31m \u001b[0m\u001b[0;31m\\\u001b[0m\u001b[1;33m\u001b[0m\u001b[1;33m\u001b[0m\u001b[0m\n\u001b[1;32m----> 3\u001b[1;33m \u001b[1;34m'&start_date='\u001b[0m \u001b[1;33m+\u001b[0m \u001b[0mstart\u001b[0m \u001b[1;33m+\u001b[0m\u001b[0;31m \u001b[0m\u001b[0;31m\\\u001b[0m\u001b[1;33m\u001b[0m\u001b[1;33m\u001b[0m\u001b[0m\n\u001b[0m\u001b[0;32m      4\u001b[0m \u001b[1;34m'&end_date='\u001b[0m \u001b[1;33m+\u001b[0m \u001b[0mend\u001b[0m \u001b[1;33m+\u001b[0m\u001b[0;31m \u001b[0m\u001b[0;31m\\\u001b[0m\u001b[1;33m\u001b[0m\u001b[1;33m\u001b[0m\u001b[0m\n\u001b[0;32m      5\u001b[0m \u001b[1;34m'&base='\u001b[0m \u001b[1;33m+\u001b[0m \u001b[0mbase\u001b[0m \u001b[1;33m+\u001b[0m\u001b[0;31m \u001b[0m\u001b[0;31m\\\u001b[0m\u001b[1;33m\u001b[0m\u001b[1;33m\u001b[0m\u001b[0m\n",
      "\u001b[1;31mNameError\u001b[0m: name 'start' is not defined"
     ]
    }
   ],
   "source": [
    "# Get request \n",
    "url = 'https://api.exchangerate.host/timeseries?' + \\\n",
    "'&start_date=' + start + \\\n",
    "'&end_date=' + end + \\\n",
    "'&base=' + base + \\\n",
    "'&symbols=' + s.join(currencies) + \\\n",
    "'&source=' + fx_source\n",
    "\n",
    "# Check full URL\n",
    "print(url)"
   ]
  },
  {
   "cell_type": "markdown",
   "id": "e3d0eb30",
   "metadata": {},
   "source": [
    "# II. Parse: Obtain and Structure Forex Rate Data \n",
    "After submitting the get request, we obtain the desired forex time series as a JSON object - this is then parsed and converted to a pandas df for further use. "
   ]
  },
  {
   "cell_type": "code",
   "execution_count": 5,
   "id": "66a1b380",
   "metadata": {},
   "outputs": [],
   "source": [
    "# Pull forex rates \n",
    "rates = requests.get(url) \n",
    "rate_data = rates.json()"
   ]
  },
  {
   "cell_type": "code",
   "execution_count": 6,
   "id": "1287e8f7",
   "metadata": {
    "collapsed": true
   },
   "outputs": [
    {
     "name": "stdout",
     "output_type": "stream",
     "text": [
      "     currency        date      value\n",
      "0         CAD  2010-01-01   1.050118\n",
      "1         CNY  2010-01-01   6.827017\n",
      "2         INR  2010-01-01  46.536165\n",
      "3         MXN  2010-01-01  13.135013\n",
      "4         EUR  2010-01-01   0.694155\n",
      "...       ...         ...        ...\n",
      "1825      CAD  2011-01-01   0.997006\n",
      "1826      CNY  2011-01-01   6.602305\n",
      "1827      INR  2011-01-01  44.722347\n",
      "1828      MXN  2011-01-01  12.383999\n",
      "1829      EUR  2011-01-01   0.748391\n",
      "\n",
      "[1830 rows x 3 columns]\n"
     ]
    }
   ],
   "source": [
    "# Convert from json/python object --> json string --> python dictionary \n",
    "rate_string = json.dumps(rate_data)\n",
    "rate_list = json.loads(rate_string)['rates']\n",
    "\n",
    "# Restructure dataframe \n",
    "rate_df_initial = pd.DataFrame.from_records(rate_list)\n",
    "rate_df_initial['currency'] = rate_df_initial.index\n",
    "rate_df = rate_df_initial.melt(\n",
    "    id_vars = ['currency'],\n",
    "    value_vars = None,\n",
    "    var_name = 'date',\n",
    "    value_name = 'value'\n",
    ")\n",
    "\n",
    "# Check \n",
    "print(rate_df)\n"
   ]
  },
  {
   "cell_type": "code",
   "execution_count": 17,
   "id": "227cc4d5",
   "metadata": {},
   "outputs": [
    {
     "data": {
      "text/plain": [
       "\"\\nrate_df = pd.DataFrame(columns = ['date', 'currency', 'value'])\\nprint(rate_df)\\n\\nfor d in rate_list:\\n    # print(d)\\n    # print(rate_list[d])\\n    for currency in rate_list[d]:\\n        # print(currency)\\n        rate_dict = {\\n            'date': d,\\n            'currency': currency,\\n            'value': rate_list[d][currency]\\n            }\\n        # print(pd.DataFrame(data = rate_dict))\\n        rate_df = rate_df.append(rate_dict, ignore_index = True)\\n        # print(rate_list[d][currency])\\n        \\nprint(rate_df)\\n\\n\""
      ]
     },
     "execution_count": 17,
     "metadata": {},
     "output_type": "execute_result"
    }
   ],
   "source": [
    "# Alternative method of creating dataframe \n",
    "\n",
    "'''\n",
    "rate_df = pd.DataFrame(columns = ['date', 'currency', 'value'])\n",
    "print(rate_df)\n",
    "\n",
    "for d in rate_list:\n",
    "    # print(d)\n",
    "    # print(rate_list[d])\n",
    "    for currency in rate_list[d]:\n",
    "        # print(currency)\n",
    "        rate_dict = {\n",
    "            'date': d,\n",
    "            'currency': currency,\n",
    "            'value': rate_list[d][currency]\n",
    "            }\n",
    "        # print(pd.DataFrame(data = rate_dict))\n",
    "        rate_df = rate_df.append(rate_dict, ignore_index = True)\n",
    "        # print(rate_list[d][currency])\n",
    "        \n",
    "print(rate_df)\n",
    "\n",
    "'''"
   ]
  }
 ],
 "metadata": {
  "kernelspec": {
   "display_name": "Python 3 (ipykernel)",
   "language": "python",
   "name": "python3"
  },
  "language_info": {
   "codemirror_mode": {
    "name": "ipython",
    "version": 3
   },
   "file_extension": ".py",
   "mimetype": "text/x-python",
   "name": "python",
   "nbconvert_exporter": "python",
   "pygments_lexer": "ipython3",
   "version": "3.8.12"
  }
 },
 "nbformat": 4,
 "nbformat_minor": 5
}
